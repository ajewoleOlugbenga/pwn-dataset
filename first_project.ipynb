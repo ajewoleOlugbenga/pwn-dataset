{
 "cells": [
  {
   "cell_type": "code",
   "execution_count": 1,
   "id": "d4110e63-986a-49e4-b41a-113076067e96",
   "metadata": {},
   "outputs": [
    {
     "data": {
      "text/plain": [
       "4"
      ]
     },
     "execution_count": 1,
     "metadata": {},
     "output_type": "execute_result"
    }
   ],
   "source": [
    "2*2"
   ]
  },
  {
   "cell_type": "code",
   "execution_count": 1,
   "id": "451ef32a-35cf-48ec-88d1-1444f86283ac",
   "metadata": {},
   "outputs": [
    {
     "name": "stdout",
     "output_type": "stream",
     "text": [
      "It is true\n",
      "This is also true\n",
      "All of this is true\n"
     ]
    }
   ],
   "source": [
    "#for loop\n",
    "a=True\n",
    "b=True\n",
    "c=True\n",
    "if a:\n",
    "    print(\"It is true\")\n",
    "    if b:\n",
    "        print(\"This is also true\")\n",
    "        if c:\n",
    "            print(\"All of this is true\")\n",
    "        "
   ]
  },
  {
   "cell_type": "code",
   "execution_count": null,
   "id": "902abfe3-6224-4a16-b1ff-33e6d5fe8243",
   "metadata": {},
   "outputs": [],
   "source": []
  }
 ],
 "metadata": {
  "kernelspec": {
   "display_name": "Python 3 (ipykernel)",
   "language": "python",
   "name": "python3"
  },
  "language_info": {
   "codemirror_mode": {
    "name": "ipython",
    "version": 3
   },
   "file_extension": ".py",
   "mimetype": "text/x-python",
   "name": "python",
   "nbconvert_exporter": "python",
   "pygments_lexer": "ipython3",
   "version": "3.12.4"
  }
 },
 "nbformat": 4,
 "nbformat_minor": 5
}
