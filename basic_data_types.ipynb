{
 "cells": [
  {
   "cell_type": "code",
   "execution_count": 1,
   "id": "a8e7faf8-798d-4588-95b7-beec02cec3e4",
   "metadata": {},
   "outputs": [
    {
     "data": {
      "text/plain": [
       "16"
      ]
     },
     "execution_count": 1,
     "metadata": {},
     "output_type": "execute_result"
    }
   ],
   "source": [
    "4 * 4"
   ]
  },
  {
   "cell_type": "code",
   "execution_count": 2,
   "id": "437422c8-f1a1-49b7-9f4d-c18aca6bfebd",
   "metadata": {},
   "outputs": [
    {
     "data": {
      "text/plain": [
       "16"
      ]
     },
     "execution_count": 2,
     "metadata": {},
     "output_type": "execute_result"
    }
   ],
   "source": [
    "int(4*4)"
   ]
  },
  {
   "cell_type": "code",
   "execution_count": 3,
   "id": "715d6e61-89d9-4b70-b1c7-e4266e710b99",
   "metadata": {},
   "outputs": [
    {
     "data": {
      "text/plain": [
       "16.0"
      ]
     },
     "execution_count": 3,
     "metadata": {},
     "output_type": "execute_result"
    }
   ],
   "source": [
    "float(4*4)"
   ]
  },
  {
   "cell_type": "code",
   "execution_count": 4,
   "id": "d8d6d4e4-ba66-441e-9478-3132db0d586c",
   "metadata": {},
   "outputs": [
    {
     "data": {
      "text/plain": [
       "16"
      ]
     },
     "execution_count": 4,
     "metadata": {},
     "output_type": "execute_result"
    }
   ],
   "source": [
    "4*4"
   ]
  },
  {
   "cell_type": "code",
   "execution_count": 5,
   "id": "2b903f31-293d-4522-b3b2-cf2cceb6dfa7",
   "metadata": {},
   "outputs": [
    {
     "data": {
      "text/plain": [
       "256.0"
      ]
     },
     "execution_count": 5,
     "metadata": {},
     "output_type": "execute_result"
    }
   ],
   "source": [
    "4**4.0"
   ]
  },
  {
   "cell_type": "code",
   "execution_count": 6,
   "id": "5194f262-8371-4f81-896f-3cb13503b3f4",
   "metadata": {},
   "outputs": [
    {
     "data": {
      "text/plain": [
       "256"
      ]
     },
     "execution_count": 6,
     "metadata": {},
     "output_type": "execute_result"
    }
   ],
   "source": [
    "int(4**4.0)"
   ]
  },
  {
   "cell_type": "code",
   "execution_count": 1,
   "id": "427f3f87-4eab-46e1-92fa-cb5cb6892446",
   "metadata": {},
   "outputs": [
    {
     "data": {
      "text/plain": [
       "5.0"
      ]
     },
     "execution_count": 1,
     "metadata": {},
     "output_type": "execute_result"
    }
   ],
   "source": [
    "20 / 4"
   ]
  },
  {
   "cell_type": "code",
   "execution_count": 2,
   "id": "73f8be8a-6783-492c-bb15-8a5ac6f44da6",
   "metadata": {},
   "outputs": [
    {
     "data": {
      "text/plain": [
       "5"
      ]
     },
     "execution_count": 2,
     "metadata": {},
     "output_type": "execute_result"
    }
   ],
   "source": [
    "int(20/4)"
   ]
  },
  {
   "cell_type": "code",
   "execution_count": 3,
   "id": "366cb7a4-8ec6-4514-bc45-0a214676baee",
   "metadata": {},
   "outputs": [],
   "source": [
    "#Intergers\n",
    "#if you pass a string number to an int, it will be converted to an int"
   ]
  },
  {
   "cell_type": "code",
   "execution_count": 4,
   "id": "ce313fb9-add2-4d81-a29e-a5e524e3608f",
   "metadata": {},
   "outputs": [
    {
     "data": {
      "text/plain": [
       "100"
      ]
     },
     "execution_count": 4,
     "metadata": {},
     "output_type": "execute_result"
    }
   ],
   "source": [
    "int('100')"
   ]
  },
  {
   "cell_type": "code",
   "execution_count": null,
   "id": "dd5f8d9e-7c01-4ae8-8b3f-1d5d042f3473",
   "metadata": {},
   "outputs": [],
   "source": []
  }
 ],
 "metadata": {
  "kernelspec": {
   "display_name": "Python 3 (ipykernel)",
   "language": "python",
   "name": "python3"
  },
  "language_info": {
   "codemirror_mode": {
    "name": "ipython",
    "version": 3
   },
   "file_extension": ".py",
   "mimetype": "text/x-python",
   "name": "python",
   "nbconvert_exporter": "python",
   "pygments_lexer": "ipython3",
   "version": "3.12.4"
  }
 },
 "nbformat": 4,
 "nbformat_minor": 5
}
