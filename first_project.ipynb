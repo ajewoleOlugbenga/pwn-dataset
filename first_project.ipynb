{
 "cells": [
  {
   "cell_type": "code",
   "execution_count": 1,
   "id": "d4110e63-986a-49e4-b41a-113076067e96",
   "metadata": {},
   "outputs": [
    {
     "data": {
      "text/plain": [
       "4"
      ]
     },
     "execution_count": 1,
     "metadata": {},
     "output_type": "execute_result"
    }
   ],
   "source": [
    "2*2"
   ]
  },
  {
   "cell_type": "code",
   "execution_count": 1,
   "id": "451ef32a-35cf-48ec-88d1-1444f86283ac",
   "metadata": {},
   "outputs": [
    {
     "name": "stdout",
     "output_type": "stream",
     "text": [
      "It is true\n",
      "This is also true\n",
      "All of this is true\n"
     ]
    }
   ],
   "source": [
    "#if statement\n",
    "a=True\n",
    "b=True\n",
    "c=True\n",
    "if a:\n",
    "    print(\"It is true\")\n",
    "    if b:\n",
    "        print(\"This is also true\")\n",
    "        if c:\n",
    "            print(\"All of this is true\")\n",
    "        "
   ]
  },
  {
   "cell_type": "code",
   "execution_count": 1,
   "id": "902abfe3-6224-4a16-b1ff-33e6d5fe8243",
   "metadata": {},
   "outputs": [
    {
     "name": "stdout",
     "output_type": "stream",
     "text": [
      "1\n",
      "2\n",
      "3\n",
      "4\n",
      "5\n"
     ]
    }
   ],
   "source": [
    "#for loops\n",
    "a=[1,2,3,4,5]\n",
    "for number in a:\n",
    "    print(number)"
   ]
  },
  {
   "cell_type": "code",
   "execution_count": 2,
   "id": "86e18388-40c5-4f0c-a5b2-cc2adba3a66d",
   "metadata": {},
   "outputs": [
    {
     "data": {
      "text/plain": [
       "True"
      ]
     },
     "execution_count": 2,
     "metadata": {},
     "output_type": "execute_result"
    }
   ],
   "source": [
    "4 in a"
   ]
  },
  {
   "cell_type": "code",
   "execution_count": 3,
   "id": "2354c20a-3bab-45a2-a796-17b21d19c122",
   "metadata": {},
   "outputs": [
    {
     "name": "stdout",
     "output_type": "stream",
     "text": [
      "0\n",
      "1\n",
      "2\n",
      "3\n",
      "4\n"
     ]
    }
   ],
   "source": [
    "#while loops\n",
    "a=0;\n",
    "while a<5:\n",
    "    print(a)\n",
    "    a = a + 1;\n"
   ]
  },
  {
   "cell_type": "code",
   "execution_count": 4,
   "id": "f59c61ac-1f2d-4ff9-8795-efb972157178",
   "metadata": {},
   "outputs": [],
   "source": [
    "#functions\n",
    "#def stands for definations\n",
    "#functions usually return things"
   ]
  },
  {
   "cell_type": "code",
   "execution_count": 5,
   "id": "3979c575-9349-47dd-9c82-adfa8bdebbfa",
   "metadata": {},
   "outputs": [
    {
     "data": {
      "text/plain": [
       "12"
      ]
     },
     "execution_count": 5,
     "metadata": {},
     "output_type": "execute_result"
    }
   ],
   "source": [
    "def multiplyByThree(value):\n",
    "    return 3 * value;\n",
    "multiplyByThree(4)"
   ]
  },
  {
   "cell_type": "code",
   "execution_count": 6,
   "id": "2514feb9-fd01-4366-af28-9f9bc25b954a",
   "metadata": {},
   "outputs": [],
   "source": [
    "def multiplyValues(value1, value2):\n",
    "    return value1 * value2;"
   ]
  },
  {
   "cell_type": "code",
   "execution_count": 7,
   "id": "3671fa1d-9f5d-4303-a05e-e3241ce88683",
   "metadata": {},
   "outputs": [
    {
     "data": {
      "text/plain": [
       "36"
      ]
     },
     "execution_count": 7,
     "metadata": {},
     "output_type": "execute_result"
    }
   ],
   "source": [
    "multiplyValues(12,3)"
   ]
  },
  {
   "cell_type": "code",
   "execution_count": 9,
   "id": "ea9a2344-9799-4a89-ab96-c76683caa4c9",
   "metadata": {},
   "outputs": [
    {
     "name": "stdout",
     "output_type": "stream",
     "text": [
      "[1, 2, 3, 4, 5]\n"
     ]
    }
   ],
   "source": [
    "#function does not always return \n",
    "#append value\n",
    "a=[1,2,3,4];\n",
    "def appendFour(myList):\n",
    "    myList.append(5)\n",
    "appendFour(a)\n",
    "print(a)"
   ]
  },
  {
   "cell_type": "code",
   "execution_count": 11,
   "id": "d7ebdd6b-4cd3-4c9f-a211-c9b8a556f280",
   "metadata": {},
   "outputs": [],
   "source": [
    "#Class\n",
    "#we use uppercase latetrs for Class"
   ]
  },
  {
   "cell_type": "code",
   "execution_count": 22,
   "id": "9795349a-83bb-4078-bd4d-2df344aa0257",
   "metadata": {},
   "outputs": [],
   "source": [
    "class Dog:\n",
    "    def __init__(self,name):\n",
    "        self.name = name;\n",
    "        self.legs = 4;\n",
    "    def speak(self):\n",
    "        print(self.name + \" says: Bark!\")\n",
    "        "
   ]
  },
  {
   "cell_type": "code",
   "execution_count": 25,
   "id": "cd958708-6b68-4b87-afea-c983df7db0f0",
   "metadata": {},
   "outputs": [],
   "source": [
    "my_dog = Dog(\"Code\")\n",
    "another_dog = Dog(\"Wisky\")"
   ]
  },
  {
   "cell_type": "code",
   "execution_count": 24,
   "id": "68ae0d7a-d4ca-4657-9184-47e70371afb3",
   "metadata": {},
   "outputs": [
    {
     "name": "stdout",
     "output_type": "stream",
     "text": [
      "Code says: Bark!\n"
     ]
    }
   ],
   "source": [
    "my_dog.speak()"
   ]
  },
  {
   "cell_type": "code",
   "execution_count": 26,
   "id": "3ab0bbef-b009-4fe0-bcc3-b1da3cc8b10d",
   "metadata": {},
   "outputs": [
    {
     "name": "stdout",
     "output_type": "stream",
     "text": [
      "Wisky says: Bark!\n"
     ]
    }
   ],
   "source": [
    "another_dog.speak()"
   ]
  },
  {
   "cell_type": "code",
   "execution_count": null,
   "id": "62c35652-9768-413d-8b44-28e6745a3a14",
   "metadata": {},
   "outputs": [],
   "source": [
    "#code challenge(factorial)\n",
    "\n",
    "def factorial(num):\n",
    "    if num != int:\n",
    "        return none;\n",
    "    if num < 0:\n",
    "       return none;\n",
    "    fact = 1\n",
    "    counter = 1\n",
    "    while counter <= num:\n",
    "       fact = fact * counter\n",
    "       counter = counter + 1\n",
    "    return fact;"
   ]
  }
 ],
 "metadata": {
  "kernelspec": {
   "display_name": "Python 3 (ipykernel)",
   "language": "python",
   "name": "python3"
  },
  "language_info": {
   "codemirror_mode": {
    "name": "ipython",
    "version": 3
   },
   "file_extension": ".py",
   "mimetype": "text/x-python",
   "name": "python",
   "nbconvert_exporter": "python",
   "pygments_lexer": "ipython3",
   "version": "3.12.4"
  }
 },
 "nbformat": 4,
 "nbformat_minor": 5
}
